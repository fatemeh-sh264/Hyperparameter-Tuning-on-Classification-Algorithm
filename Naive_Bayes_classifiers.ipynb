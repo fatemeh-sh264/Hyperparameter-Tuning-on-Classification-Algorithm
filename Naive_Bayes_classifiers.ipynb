{
  "nbformat": 4,
  "nbformat_minor": 0,
  "metadata": {
    "colab": {
      "provenance": [],
      "collapsed_sections": [],
      "authorship_tag": "ABX9TyM5oaatr0LepksqfuMmzZQT",
      "include_colab_link": true
    },
    "kernelspec": {
      "name": "python3",
      "display_name": "Python 3"
    },
    "language_info": {
      "name": "python"
    }
  },
  "cells": [
    {
      "cell_type": "markdown",
      "metadata": {
        "id": "view-in-github",
        "colab_type": "text"
      },
      "source": [
        "<a href=\"https://colab.research.google.com/github/fatemeh-sh264/Hyperparameter-Tuning-on-Classification-Algorithm/blob/main/Naive_Bayes_classifiers.ipynb\" target=\"_parent\"><img src=\"https://colab.research.google.com/assets/colab-badge.svg\" alt=\"Open In Colab\"/></a>"
      ]
    },
    {
      "cell_type": "code",
      "source": [
        "# Naive Bayes classifiers with hypertuning"
      ],
      "metadata": {
        "id": "D7Ni1ggfmxvE"
      },
      "execution_count": null,
      "outputs": []
    },
    {
      "cell_type": "code",
      "execution_count": 2,
      "metadata": {
        "id": "ilJre15nnScn"
      },
      "outputs": [],
      "source": [
        "import numpy as np\n",
        "import pandas as pd\n",
        "import seaborn as sns\n",
        "import matplotlib.pyplot as plt\n",
        "from sklearn.datasets import load_iris\n",
        "from sklearn.preprocessing import StandardScaler\n",
        "from sklearn.naive_bayes import GaussianNB\n",
        "from sklearn.model_selection import train_test_split\n",
        "from sklearn.metrics import accuracy_score\n",
        "from sklearn.metrics import roc_auc_score\n",
        "from sklearn.metrics import roc_curve\n",
        "from sklearn.metrics import classification_report, confusion_matrix\n",
        "from sklearn.model_selection import RepeatedStratifiedKFold\n",
        "from sklearn.model_selection import GridSearchCV"
      ]
    },
    {
      "cell_type": "code",
      "execution_count": 3,
      "metadata": {
        "id": "4peB8Jx2nScp"
      },
      "outputs": [],
      "source": [
        "# load dataset\n",
        "x, y = load_iris(return_X_y=True)"
      ]
    },
    {
      "cell_type": "code",
      "execution_count": 4,
      "metadata": {
        "id": "KrlW2zefnScq"
      },
      "outputs": [],
      "source": [
        "# split data into training and testing sets\n",
        "x_train, x_test, y_train, y_test = train_test_split(x, y, test_size=0.2, random_state=0)"
      ]
    },
    {
      "cell_type": "code",
      "execution_count": 5,
      "metadata": {
        "id": "G2FeG3cOnScr"
      },
      "outputs": [],
      "source": [
        "# Standardize your data\n",
        "scaler = StandardScaler()\n",
        "x_train = scaler.fit_transform(x_train)\n",
        "x_test = scaler.transform(x_test)"
      ]
    },
    {
      "cell_type": "code",
      "execution_count": 9,
      "metadata": {
        "colab": {
          "base_uri": "https://localhost:8080/"
        },
        "outputId": "90163799-81fd-47f4-8155-63ae6029cd73",
        "id": "vldlqSH7nScs"
      },
      "outputs": [
        {
          "output_type": "stream",
          "name": "stdout",
          "text": [
            "best_params: {'var_smoothing': 0.01519911082952933}\n",
            "best_score: 0.9500000000000001\n"
          ]
        }
      ],
      "source": [
        "# Naive Bayes to train our model \n",
        "model = GaussianNB()\n",
        "# Hyper parameters range intialization for tuning\n",
        "var_smoothing= np.logspace(0,-9, num=100)\n",
        "# define grid search\n",
        "grid = dict(var_smoothing=var_smoothing)\n",
        "cv = RepeatedStratifiedKFold(n_splits=10, n_repeats=3, random_state=1)\n",
        "grid_search = GridSearchCV(estimator=model, param_grid=grid, n_jobs=-1, cv=cv, scoring='accuracy',error_score=0)\n",
        "grid_search.fit(x_train, y_train)\n",
        "model = model.set_params(**grid_search.best_params_)\n",
        "# train the model\n",
        "model.fit(x_train, y_train)\n",
        "# best hyperparameters \n",
        "print('best_params:', grid_search.best_params_)\n",
        "# best model score\n",
        "print('best_score:', grid_search.best_score_)"
      ]
    },
    {
      "cell_type": "code",
      "source": [
        "# test the model\n",
        "test_preds = model.predict(x_test)\n",
        "print(accuracy_score(y_test,test_preds))"
      ],
      "metadata": {
        "colab": {
          "base_uri": "https://localhost:8080/"
        },
        "id": "Haw_9vDyLc_d",
        "outputId": "f30cd40e-0d38-40c4-a54b-65dec82747dd"
      },
      "execution_count": 10,
      "outputs": [
        {
          "output_type": "stream",
          "name": "stdout",
          "text": [
            "0.9666666666666667\n"
          ]
        }
      ]
    },
    {
      "cell_type": "code",
      "execution_count": 11,
      "metadata": {
        "colab": {
          "base_uri": "https://localhost:8080/"
        },
        "outputId": "0638ade0-0458-41c8-e2a0-19f1e90aac3d",
        "id": "i2dj9cf4nScw"
      },
      "outputs": [
        {
          "output_type": "stream",
          "name": "stdout",
          "text": [
            "[[11  0  0]\n",
            " [ 0 13  0]\n",
            " [ 0  1  5]]\n"
          ]
        }
      ],
      "source": [
        "# confusion matrix\n",
        "print(confusion_matrix(y_test, test_preds))"
      ]
    },
    {
      "cell_type": "code",
      "execution_count": 12,
      "metadata": {
        "colab": {
          "base_uri": "https://localhost:8080/"
        },
        "outputId": "5066b331-c0d9-4ea3-fb17-0fa8b8f04adf",
        "id": "cqeFfmBbnScx"
      },
      "outputs": [
        {
          "output_type": "stream",
          "name": "stdout",
          "text": [
            "              precision    recall  f1-score   support\n",
            "\n",
            "           0       1.00      1.00      1.00        11\n",
            "           1       0.93      1.00      0.96        13\n",
            "           2       1.00      0.83      0.91         6\n",
            "\n",
            "    accuracy                           0.97        30\n",
            "   macro avg       0.98      0.94      0.96        30\n",
            "weighted avg       0.97      0.97      0.97        30\n",
            "\n"
          ]
        }
      ],
      "source": [
        "# classification_report\n",
        "print(classification_report(y_test,test_preds))"
      ]
    },
    {
      "cell_type": "code",
      "execution_count": 13,
      "metadata": {
        "colab": {
          "base_uri": "https://localhost:8080/",
          "height": 501
        },
        "outputId": "53ae0461-744a-48bc-b388-a2b815174647",
        "id": "4inV56PFnSc0"
      },
      "outputs": [
        {
          "output_type": "display_data",
          "data": {
            "text/plain": [
              "<Figure size 540x540 with 1 Axes>"
            ],
            "image/png": "[encoded data removed]"
          },
          "metadata": {
            "needs_background": "light"
          }
        }
      ],
      "source": [
        "# confusion matrix plot\n",
        "df_cm = confusion_matrix(y_test, test_preds)\n",
        "fig, ax = plt.subplots(figsize=(7.5, 7.5))\n",
        "ax.matshow(df_cm, cmap=plt.cm.Blues, alpha=0.3)\n",
        "for i in range(df_cm.shape[0]):\n",
        "    for j in range(df_cm.shape[1]):\n",
        "        ax.text(x=j, y=i,s=df_cm[i, j], va='center', ha='center', size='xx-large')\n",
        " \n",
        "plt.xlabel('Predictions', fontsize=18)\n",
        "plt.ylabel('Actuals', fontsize=18)\n",
        "plt.title('Confusion Matrix', fontsize=18)\n",
        "plt.show()\n"
      ]
    }
  ]
}